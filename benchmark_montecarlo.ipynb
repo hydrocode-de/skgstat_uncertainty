{
 "cells": [
  {
   "cell_type": "markdown",
   "id": "c8c01381",
   "metadata": {},
   "source": [
    "# Benchmark MonteCarlo\n",
    "\n",
    "This notebook benchmarks a analytical Gaussian uncertainty propagation against a MonteCarlo simulation. Uncertain observations are propagated into an experimental variogram. The aim is to provide evidence that MonteCarlo simulations at suffieciently large iterations can substitute a Gaussian uncertainty propagations in terms of error margins. MonteCarlo simulations are a preferred framework in this case as they are easily adaptable to the numerical geostatistics packages SciKit-GStat and GSTools, which do not implement symbolic functions for deriving analytical solutions.\n",
    "\n",
    "## 1. Analytical solution\n",
    "\n",
    "As a first step the analytical solution for the Matheron estimator is presented. This is the most commonly used estimator, which is also pretty straightforward mathematically."
   ]
  },
  {
   "cell_type": "code",
   "execution_count": 1,
   "id": "c1dc2249",
   "metadata": {},
   "outputs": [],
   "source": [
    "import abc\n",
    "import random\n",
    "import skgstat as skg\n",
    "from tqdm import tqdm\n",
    "import numpy as np\n",
    "import matplotlib.pyplot as plt\n",
    "from scipy.spatial.distance import pdist\n",
    "from sympy import Integer, Symbol, IndexedBase\n",
    "from sympy import diff, summation, sqrt, Abs\n",
    "\n",
    "plt.style.use('./paper.mplstyle')"
   ]
  },
  {
   "cell_type": "code",
   "execution_count": 2,
   "id": "47a796c7",
   "metadata": {},
   "outputs": [],
   "source": [
    "class ExactModel(abc.ABC):\n",
    "    i = Symbol('i', integer=True)\n",
    "    N = Symbol('N', integer=True)\n",
    "    x = IndexedBase('x', integer=True)\n",
    "\n",
    "    def __init__(self, data=None):\n",
    "        if data is not None:\n",
    "            self.init_data(data)\n",
    "        \n",
    "    def init_data(self, data):\n",
    "        self.data = data\n",
    "        self.model = self.model().subs(self.N, len(data) - 1)\n",
    "        self.diff = diff(self.model, self.x[self.i])\n",
    "    \n",
    "    def __call__(self, data=None, evalf=False):\n",
    "        if data is not None:\n",
    "            self.init_data(data)\n",
    "        \n",
    "        # go\n",
    "        res =  self.model.doit().subs([(self.x[i], self.data[i]) for i in range(len(self.data))])\n",
    "        if evalf:\n",
    "            return res.evalf()\n",
    "        else:\n",
    "            return res\n",
    "        \n",
    "    @property\n",
    "    def model(self):\n",
    "        return self.model\n",
    "    \n",
    "    @property\n",
    "    def deriv(self):\n",
    "        return self.diff\n",
    "    \n",
    "    def solve_diff(self, evalf=False):\n",
    "        res = self.diff.doit().subs([(self.x[i], self.data[i]) for i in range(len(self.data))])\n",
    "        if evalf:\n",
    "            return res.evalf()\n",
    "        else:\n",
    "            return res\n",
    "        \n",
    "    @abc.abstractclassmethod\n",
    "    def model(cls):\n",
    "        pass\n",
    "    \n",
    "    @classmethod\n",
    "    def derivative(cls):\n",
    "        return diff(cls.model(), cls.x[cls.i])\n",
    "    "
   ]
  },
  {
   "cell_type": "code",
   "execution_count": 3,
   "id": "295e2dcd",
   "metadata": {},
   "outputs": [],
   "source": [
    "class Matheron(ExactModel):\n",
    "    @classmethod\n",
    "    def model(cls):\n",
    "        return Integer(1) / (2 * cls.N) * summation(cls.x[cls.i]**2, (cls.i, 0, cls.N))\n",
    "#        return Integer(1) / (2 * cls.N) * summation((cls.x[cls.i] - cls.x[cls.i - 1])**2, (cls.i, 1, cls.N))\n",
    "    \n",
    "\n",
    "class Cressie(ExactModel):\n",
    "    @classmethod\n",
    "    def model(cls):\n",
    "        nominator = ((1 / cls.N) * summation(sqrt(Abs(cls.x[cls.i])), (cls.i, 0, cls.N)))**4\n",
    "        denominator = (Integer(457) / Integer(1000)) + (Integer(494) / Integer(1000)) / cls.N + (Integer(45) / Integer(1000)) / cls.N**2\n",
    "        return (Integer(1) / Integer(2)) * (nominator / denominator)"
   ]
  },
  {
   "cell_type": "code",
   "execution_count": 4,
   "id": "2759f0a4",
   "metadata": {},
   "outputs": [
    {
     "data": {
      "text/latex": [
       "$\\displaystyle \\frac{\\sum_{i=0}^{N} {x}_{i}^{2}}{2 N}$"
      ],
      "text/plain": [
       "Sum(x[i]**2, (i, 0, N))/(2*N)"
      ]
     },
     "execution_count": 4,
     "metadata": {},
     "output_type": "execute_result"
    }
   ],
   "source": [
    "Matheron.model()"
   ]
  },
  {
   "cell_type": "code",
   "execution_count": 5,
   "id": "a53db1b7",
   "metadata": {},
   "outputs": [
    {
     "data": {
      "text/latex": [
       "$\\displaystyle \\frac{\\sum_{i=0}^{N} 2 {x}_{i}}{2 N}$"
      ],
      "text/plain": [
       "Sum(2*x[i], (i, 0, N))/(2*N)"
      ]
     },
     "execution_count": 5,
     "metadata": {},
     "output_type": "execute_result"
    }
   ],
   "source": [
    "Matheron.derivative()"
   ]
  },
  {
   "cell_type": "code",
   "execution_count": 6,
   "id": "a29a198b",
   "metadata": {},
   "outputs": [
    {
     "data": {
      "text/latex": [
       "$\\displaystyle \\frac{\\left(\\sum_{i=0}^{N} \\sqrt{\\left|{{x}_{i}}\\right|}\\right)^{4}}{2 N^{4} \\left(\\frac{457}{1000} + \\frac{247}{500 N} + \\frac{9}{200 N^{2}}\\right)}$"
      ],
      "text/plain": [
       "Sum(sqrt(Abs(x[i])), (i, 0, N))**4/(2*N**4*(457/1000 + 247/(500*N) + 9/(200*N**2)))"
      ]
     },
     "execution_count": 6,
     "metadata": {},
     "output_type": "execute_result"
    }
   ],
   "source": [
    "Cressie.model()"
   ]
  },
  {
   "cell_type": "code",
   "execution_count": 7,
   "id": "489dbdf7",
   "metadata": {},
   "outputs": [
    {
     "data": {
      "text/latex": [
       "$\\displaystyle \\frac{2 \\left(\\sum_{i=0}^{N} \\frac{\\operatorname{sign}{\\left({x}_{i} \\right)}}{2 \\sqrt{\\left|{{x}_{i}}\\right|}}\\right) \\left(\\sum_{i=0}^{N} \\sqrt{\\left|{{x}_{i}}\\right|}\\right)^{3}}{N^{4} \\left(\\frac{457}{1000} + \\frac{247}{500 N} + \\frac{9}{200 N^{2}}\\right)}$"
      ],
      "text/plain": [
       "2*Sum(sign(x[i])/(2*sqrt(Abs(x[i]))), (i, 0, N))*Sum(sqrt(Abs(x[i])), (i, 0, N))**3/(N**4*(457/1000 + 247/(500*N) + 9/(200*N**2)))"
      ]
     },
     "execution_count": 7,
     "metadata": {},
     "output_type": "execute_result"
    }
   ],
   "source": [
    "Cressie.derivative()"
   ]
  },
  {
   "cell_type": "code",
   "execution_count": 8,
   "id": "a7def4ec",
   "metadata": {},
   "outputs": [
    {
     "name": "stderr",
     "output_type": "stream",
     "text": [
      "/home/mirko/Dropbox/python/scikit-gstat/skgstat/plotting/variogram_plot.py:123: UserWarning: Matplotlib is currently using module://ipykernel.pylab.backend_inline, which is a non-GUI backend, so cannot show the figure.\n",
      "  fig.show()\n"
     ]
    },
    {
     "data": {
      "image/png": "[encoded data removed]",
      "text/plain": [
       "<Figure size 576x360 with 2 Axes>"
      ]
     },
     "metadata": {
      "needs_background": "light"
     },
     "output_type": "display_data"
    }
   ],
   "source": [
    "# Load data with a seed\n",
    "coords, values = skg.data.pancake(N=150, seed=42).get('sample')\n",
    "\n",
    "vario = skg.Variogram(coords, values, n_lags=15)\n",
    "vario.maxlag = 500\n",
    "fig = vario.plot()"
   ]
  },
  {
   "cell_type": "code",
   "execution_count": 67,
   "id": "57d6932c",
   "metadata": {},
   "outputs": [
    {
     "name": "stderr",
     "output_type": "stream",
     "text": [
      "100%|██████████| 15/15 [17:08<00:00, 68.58s/it] "
     ]
    },
    {
     "name": "stdout",
     "output_type": "stream",
     "text": [
      "[8.21779141104295, 12.8846153846154, 14.2357784431138, 15.7694954128440, 19.0000000000000, 18.4990680335508, 19.2524797114518, 20.1920432220040, 21.4853228962816, 22.3324742268043, 22.0737514518003, 22.9039509536784, 21.4457364341085, 21.3625377643505, 22.1875000000000]\n"
     ]
    },
    {
     "name": "stderr",
     "output_type": "stream",
     "text": [
      "\n"
     ]
    }
   ],
   "source": [
    "# a uint8 based PNG has a inherit error of 1\n",
    "dx = Integer(1) / Integer(2)\n",
    "\n",
    "lags = []\n",
    "errors = []\n",
    "\n",
    "# create the bin edges\n",
    "groups = list(zip(vario.bins, vario.bins[1:]))\n",
    "\n",
    "for data in tqdm(vario.lag_classes(), total=vario.n_lags):\n",
    "    # create the exact solution\n",
    "    m = Matheron(data)\n",
    "    err = m.solve_diff() * dx\n",
    "    \n",
    "    # append\n",
    "    lags.append(m)\n",
    "    errors.append(err)\n",
    "print([e.evalf() for e in errors])"
   ]
  },
  {
   "cell_type": "code",
   "execution_count": 68,
   "id": "df2fad0e",
   "metadata": {},
   "outputs": [],
   "source": [
    "# save these results as well\n",
    "gaus_errors = np.array([e.evalf() for e in errors])\n",
    "np.save('./data/gauss_uncertainty.npy', gaus_errors)"
   ]
  },
  {
   "cell_type": "code",
   "execution_count": null,
   "id": "711aaada",
   "metadata": {},
   "outputs": [],
   "source": []
  },
  {
   "cell_type": "markdown",
   "id": "6fcd2f65",
   "metadata": {},
   "source": [
    "## 1.2 MonteCarlo Simulation"
   ]
  },
  {
   "cell_type": "code",
   "execution_count": 9,
   "id": "7c3ebe85",
   "metadata": {},
   "outputs": [
    {
     "name": "stdout",
     "output_type": "stream",
     "text": [
      "[ 9.3 10.9 10.6 13.  15.8 13.2 15.5 16.1 17.9 19.6 19.5 20.5 21.4 22.7\n",
      " 28.9]\n"
     ]
    }
   ],
   "source": [
    "N = 50000\n",
    "RERUN = False\n",
    "\n",
    "# calculate the distance matrix only once\n",
    "ms = skg.MetricSpace(coords)\n",
    "\n",
    "# prepare input data\n",
    "input_data = np.array([values,] * N)\n",
    "\n",
    "# in the special case of uint8 values we just turn the values into floats of\n",
    "# within the range of one R-band value\n",
    "# i.e.: v = 127 -> [127.0:128.0[\n",
    "np.random.seed(42)\n",
    "input_data = input_data.astype(float) + np.random.random(size=input_data.shape) - 0.5\n",
    "\n",
    "if RERUN:\n",
    "    results = np.zeros((vario.n_lags, N))\n",
    "\n",
    "    for i, vals in tqdm(enumerate(input_data), total=N):\n",
    "        v = skg.Variogram(ms, vals, n_lags=vario.n_lags, maxlag=500)\n",
    "        results[:,i] = v.experimental\n",
    "    \n",
    "    # save the data\n",
    "    np.save('./data/observation_uncertainty.npy', results)\n",
    "else:\n",
    "    results = np.load('./data/observation_uncertainty.npy')\n",
    "\n",
    "print((np.max(results, axis=1) - np.min(results, axis=1)).round(1))"
   ]
  },
  {
   "cell_type": "code",
   "execution_count": 10,
   "id": "d80b866a",
   "metadata": {},
   "outputs": [
    {
     "data": {
      "text/plain": [
       "(15, 50000)"
      ]
     },
     "execution_count": 10,
     "metadata": {},
     "output_type": "execute_result"
    }
   ],
   "source": [
    "results.shape"
   ]
  },
  {
   "cell_type": "code",
   "execution_count": 18,
   "id": "1fc07100",
   "metadata": {},
   "outputs": [
    {
     "data": {
      "image/png": "[encoded data removed]",
      "text/plain": [
       "<Figure size 720x432 with 1 Axes>"
      ]
     },
     "metadata": {
      "needs_background": "light"
     },
     "output_type": "display_data"
    }
   ],
   "source": [
    "sizes = (100, 500, 1000, 2000, 5000, 10000, 15000, 20000, 30000, 40000, 50000)\n",
    "\n",
    "fig, ax = plt.subplots(1, 1, figsize=(10, 6))\n",
    "\n",
    "for lag in range(vario.n_lags):\n",
    "        y = [np.max(results[lag, :size]) - np.min(results[lag, :size]) for size in range(100, N)]\n",
    "#        y = [np.percentile(results[lag, :size], 98) - np.percentile(results[lag, :size], 2) for size in range(100, N)]\n",
    "        \n",
    "        ax.plot(range(100, N), y, linestyle='-', color='green', alpha=0.8)\n",
    "\n",
    "#ax.hlines(gaus_errors, xmin=0, xmax=50000, color='grey', ls='--', alpha=0.5)\n",
    "\n",
    "ax.set_xlabel('Iterations')\n",
    "ax.set_ylabel('Uncertainty range')\n",
    "fig.savefig('./figures/MonteCarlo_iterations.pdf', dpi=300)"
   ]
  }
 ],
 "metadata": {
  "kernelspec": {
   "display_name": "Python 3",
   "language": "python",
   "name": "python3"
  },
  "language_info": {
   "codemirror_mode": {
    "name": "ipython",
    "version": 3
   },
   "file_extension": ".py",
   "mimetype": "text/x-python",
   "name": "python",
   "nbconvert_exporter": "python",
   "pygments_lexer": "ipython3",
   "version": "3.8.5"
  }
 },
 "nbformat": 4,
 "nbformat_minor": 5
}

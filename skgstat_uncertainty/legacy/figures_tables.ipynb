{
 "cells": [
  {
   "cell_type": "markdown",
   "id": "2714ec18",
   "metadata": {},
   "source": [
    "# Figures and Tables"
   ]
  },
  {
   "cell_type": "code",
   "execution_count": 2,
   "id": "e04de575",
   "metadata": {},
   "outputs": [],
   "source": [
    "import numpy as np\n",
    "import pandas as pd\n",
    "import matplotlib.pyplot as plt\n",
    "import pickle\n",
    "import warnings\n",
    "\n",
    "warnings.filterwarnings('ignore')\n",
    "plt.style.use('./paper.mplstyle')"
   ]
  },
  {
   "cell_type": "markdown",
   "id": "604c07e3",
   "metadata": {},
   "source": [
    "## 1.1 Table - experimental prop. uncertainties"
   ]
  },
  {
   "cell_type": "code",
   "execution_count": 26,
   "id": "9a3a4882",
   "metadata": {},
   "outputs": [
    {
     "name": "stdout",
     "output_type": "stream",
     "text": [
      "\\begin{tabular}{llll}\n",
      "\\toprule\n",
      "$\\sigma_{Obs}$ & share value range & relative & $\\sigma_{prop}$ \\\\\n",
      "\\midrule\n",
      "             0 &   $\\frac{0}{256}$ &    0.0\\% &           1.7\\% \\\\\n",
      "             2 &   $\\frac{2}{256}$ &    0.8\\% &           4.7\\% \\\\\n",
      "             5 &   $\\frac{5}{256}$ &    2.0\\% &           7.5\\% \\\\\n",
      "            10 &  $\\frac{10}{256}$ &    3.9\\% &           7.5\\% \\\\\n",
      "            15 &  $\\frac{15}{256}$ &    5.9\\% &           7.4\\% \\\\\n",
      "            25 &  $\\frac{25}{256}$ &    9.8\\% &          12.8\\% \\\\\n",
      "\\bottomrule\n",
      "\\end{tabular}\n",
      "\n"
     ]
    }
   ],
   "source": [
    "N = 50000\n",
    "levels = (0, 2, 5, 10, 15, 25)\n",
    "\n",
    "elist = list()\n",
    "\n",
    "for lev in levels:\n",
    "    with open(f'./data/exp_interp_fields_{N}_{lev}.pickle', 'rb') as f:\n",
    "        [field1, field2] = pickle.load(f)\n",
    "        \n",
    "        # calc\n",
    "        kerr = field1 - field2\n",
    "        elist.append({\n",
    "            r'$\\sigma_{Obs}$': f'{lev}',\n",
    "            r'share value range': r'$\\frac{%d}{256}$' % lev,\n",
    "            r'relative': '%.1f' % (lev / 256 * 100) + '\\%',\n",
    "            r'$\\sigma_{prop}$': '%.1f' % ((np.max(kerr) - np.min(kerr)) / 256 * 100) + '\\%'\n",
    "        })\n",
    "\n",
    "errors = pd.DataFrame(elist)\n",
    "print(errors.to_latex(index=False, escape=False))"
   ]
  }
 ],
 "metadata": {
  "kernelspec": {
   "display_name": "Python 3",
   "language": "python",
   "name": "python3"
  },
  "language_info": {
   "codemirror_mode": {
    "name": "ipython",
    "version": 3
   },
   "file_extension": ".py",
   "mimetype": "text/x-python",
   "name": "python",
   "nbconvert_exporter": "python",
   "pygments_lexer": "ipython3",
   "version": "3.8.5"
  }
 },
 "nbformat": 4,
 "nbformat_minor": 5
}

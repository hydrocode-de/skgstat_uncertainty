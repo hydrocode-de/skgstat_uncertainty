{
 "cells": [
  {
   "cell_type": "markdown",
   "source": [
    "# Berea field creation\n",
    "\n",
    "You need the original dataset from Tidwell et al (1998) and copy the each face individually to the clipboard."
   ],
   "metadata": {}
  },
  {
   "cell_type": "code",
   "execution_count": 1,
   "source": [
    "import pandas as pd\n",
    "import numpy as np"
   ],
   "outputs": [],
   "metadata": {}
  },
  {
   "cell_type": "code",
   "execution_count": 4,
   "source": [
    "def paste_from_clipboard():\n",
    "    # read the data\n",
    "    df = pd.read_clipboard(skiprows=3, decimal=',', header=None, usecols=[0,1,2,7,8,9,10])\n",
    "    valnames = ['cm15', 'cm31', 'cm63', 'cm127']\n",
    "    df.columns = ['x', 'y', 'z', *valnames]\n",
    "\n",
    "    fields = {name: _fill_field(df, name) for name in valnames}\n",
    "\n",
    "    return fields\n",
    "    \n",
    "def _fill_field(df: pd.DataFrame, colname: str):\n",
    "    if colname not in df.columns:\n",
    "        raise AttributeError(f\"Can't find column {colname}\")\n",
    "\n",
    "    # generate the coordinate mapping\n",
    "    xidx = {c: i for i, c in enumerate(np.unique(df.x))}\n",
    "    yidx = {c: i for i, c in enumerate(np.unique(df.y))}\n",
    "    zidx = {c: i for i, c in enumerate(np.unique(df.z))}\n",
    "\n",
    "    # build the empty field and fill\n",
    "    if len(xidx) == 1:\n",
    "        field = np.ones((len(yidx), len(zidx))) * np.nan\n",
    "        for _, row in df.iterrows():\n",
    "            field[yidx[row.y], zidx[row.z]] = row.loc[colname]\n",
    "    \n",
    "    elif len(yidx) == 1:\n",
    "        field = np.ones((len(xidx), len(zidx))) * np.nan\n",
    "        for _, row in df.iterrows():\n",
    "            field[xidx[row.x], zidx[row.z]] = row.loc[colname]\n",
    "    \n",
    "    elif len(zidx) == 1:\n",
    "        field = np.ones((len(xidx), len(yidx))) * np.nan\n",
    "        for _, row in df.iterrows():\n",
    "            field[xidx[row.x], yidx[row.y]] = row.loc[colname]\n",
    "    \n",
    "    else:\n",
    "        raise AttributeError('The data is corrupted, could not identify used axis')\n",
    "\n",
    "    return field"
   ],
   "outputs": [],
   "metadata": {}
  },
  {
   "cell_type": "markdown",
   "source": [
    "Before you run the next cell, you need to copy the face data and set a name below"
   ],
   "metadata": {}
  },
  {
   "cell_type": "code",
   "execution_count": 18,
   "source": [
    "fields = paste_from_clipboard()\n",
    "print(f\"Parsed {len(fields)} fields\")"
   ],
   "outputs": [
    {
     "output_type": "stream",
     "name": "stdout",
     "text": [
      "Parsed 4 fields\n"
     ]
    }
   ],
   "metadata": {}
  },
  {
   "cell_type": "code",
   "execution_count": 19,
   "source": [
    "face_name = 'Berea Face 4 - %s.txt'\n",
    "\n",
    "for name, field in fields.items():\n",
    "    np.savetxt(face_name % name, field)"
   ],
   "outputs": [],
   "metadata": {}
  }
 ],
 "metadata": {
  "orig_nbformat": 4,
  "language_info": {
   "name": "python",
   "version": "3.8.8",
   "mimetype": "text/x-python",
   "codemirror_mode": {
    "name": "ipython",
    "version": 3
   },
   "pygments_lexer": "ipython3",
   "nbconvert_exporter": "python",
   "file_extension": ".py"
  },
  "kernelspec": {
   "name": "python3",
   "display_name": "Python 3.8.8 64-bit ('base': conda)"
  },
  "interpreter": {
   "hash": "f844c5a8e4e7df3b5ff8b490185d7ca29c57d29fc0deb536cf74e29255cc67f8"
  }
 },
 "nbformat": 4,
 "nbformat_minor": 2
}